{
  "nbformat": 4,
  "nbformat_minor": 0,
  "metadata": {
    "colab": {
      "provenance": []
    },
    "kernelspec": {
      "name": "python3",
      "display_name": "Python 3"
    },
    "language_info": {
      "name": "python"
    }
  },
  "cells": [
    {
      "cell_type": "code",
      "execution_count": null,
      "metadata": {
        "id": "Ac1cgrlRfMq_"
      },
      "outputs": [],
      "source": [
        "\n",
        "# Define a function to calculate profit\n",
        "def calculate_profit(price, predicted_sales, cost):\n",
        "    cost = cost / 100\n",
        "    revenue = price * predicted_sales\n",
        "    total_cost = cost * predicted_sales\n",
        "    profit = revenue - total_cost\n",
        "    return profit.sum()\n",
        "\n",
        "profits = []\n",
        "\n",
        "# Define a function to find the optimal price\n",
        "def find_optimal_price(model3, X_test_scaled, prices, cost):\n",
        "    for price in prices:\n",
        "        # Create input array with constant price\n",
        "        input_array = np.column_stack((X_test_scaled[:, 0], np.full(X_test_scaled.shape[0], price), X_test_scaled[:, 2]))\n",
        "\n",
        "        # Predict sales\n",
        "        predicted_sales = model3.predict(input_array)\n",
        "\n",
        "        # Calculate profit for each prediction\n",
        "        profit = calculate_profit(price, predicted_sales, cost)\n",
        "        profits.append(profit)\n",
        "\n",
        "    # Find the price that maximizes profit\n",
        "    optimal_price_index = np.argmax(profits)\n",
        "    optimal_price = prices[optimal_price_index]\n",
        "    return optimal_price\n",
        "\n",
        "# Define the range of prices to consider\n",
        "prices_to_try = np.arange(1.2, 2.6, 0.1)\n",
        "\n",
        "# Assume 'cost' is the cost of the product\n",
        "cost = X_test['cost'].values  # Assuming all test samples have the same cost\n",
        "\n",
        "# Find the optimal price\n",
        "\n",
        "print(\"Optimal Price for Maximum Profit:\", optimal_price)\n",
        "\n"
      ]
    }
  ]
}