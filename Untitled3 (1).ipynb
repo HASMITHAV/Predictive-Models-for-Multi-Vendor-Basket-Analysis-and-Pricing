{
  "nbformat": 4,
  "nbformat_minor": 0,
  "metadata": {
    "colab": {
      "provenance": []
    },
    "kernelspec": {
      "name": "python3",
      "display_name": "Python 3"
    },
    "language_info": {
      "name": "python"
    }
  },
  "cells": [
    {
      "cell_type": "code",
      "execution_count": null,
      "metadata": {
        "id": "KwMQJr5dCEd5"
      },
      "outputs": [],
      "source": [
        "import pandas as pd\n",
        "import numpy as np\n",
        "from sklearn.model_selection import train_test_split\n",
        "from sklearn.linear_model import LinearRegression\n",
        "import matplotlib.pyplot as plt\n",
        "import seaborn as sns\n",
        "import sklearn\n",
        "from sklearn import linear_model\n",
        "from sklearn.preprocessing import MinMaxScaler"
      ]
    },
    {
      "cell_type": "code",
      "source": [
        "from google.colab import drive\n",
        "drive.mount('/content/drive')"
      ],
      "metadata": {
        "id": "vtbj7tAKCHaC",
        "colab": {
          "base_uri": "https://localhost:8080/"
        },
        "outputId": "bdd6b895-9515-494e-e56b-78561c747e32"
      },
      "execution_count": null,
      "outputs": [
        {
          "output_type": "stream",
          "name": "stdout",
          "text": [
            "Drive already mounted at /content/drive; to attempt to forcibly remount, call drive.mount(\"/content/drive\", force_remount=True).\n"
          ]
        }
      ]
    },
    {
      "cell_type": "code",
      "source": [
        "# Load the dataset\n",
        "df = pd.read_csv('/content/drive/MyDrive/data.csv')\n",
        "\n",
        "# Display the first few rows of the dataframe to understand its structure\n",
        "df.head()"
      ],
      "metadata": {
        "colab": {
          "base_uri": "https://localhost:8080/",
          "height": 206
        },
        "id": "kLnrfmLCCIpS",
        "outputId": "6a2ad613-816f-4790-e9aa-f9c46d25b382"
      },
      "execution_count": null,
      "outputs": [
        {
          "output_type": "execute_result",
          "data": {
            "text/plain": [
              "         date    id  sku_id  price                             sku_name  \\\n",
              "0  24-05-2020   400       0    1.9  jeans_female_brand_2_P_middle_sport   \n",
              "1  24-05-2020   800       0    1.9  jeans_female_brand_2_P_middle_sport   \n",
              "2  24-05-2020  1200       0    1.9  jeans_female_brand_2_P_middle_sport   \n",
              "3  24-05-2020  1600       0    1.9  jeans_female_brand_2_P_middle_sport   \n",
              "4  24-05-2020  2000       0    1.9  jeans_female_brand_2_P_middle_sport   \n",
              "\n",
              "   gender category    brand collection price_tier  style   cost  sales  \n",
              "0  female    jeans  brand_2          P     middle  sport  43.63  577.0  \n",
              "1  female    jeans  brand_2          P     middle  sport  43.63  545.0  \n",
              "2  female    jeans  brand_2          P     middle  sport  43.63  565.0  \n",
              "3  female    jeans  brand_2          P     middle  sport  43.63  536.0  \n",
              "4  female    jeans  brand_2          P     middle  sport  43.63  568.0  "
            ],
            "text/html": [
              "\n",
              "  <div id=\"df-5c7dc5bd-79d5-45c8-8d11-d434f136765a\" class=\"colab-df-container\">\n",
              "    <div>\n",
              "<style scoped>\n",
              "    .dataframe tbody tr th:only-of-type {\n",
              "        vertical-align: middle;\n",
              "    }\n",
              "\n",
              "    .dataframe tbody tr th {\n",
              "        vertical-align: top;\n",
              "    }\n",
              "\n",
              "    .dataframe thead th {\n",
              "        text-align: right;\n",
              "    }\n",
              "</style>\n",
              "<table border=\"1\" class=\"dataframe\">\n",
              "  <thead>\n",
              "    <tr style=\"text-align: right;\">\n",
              "      <th></th>\n",
              "      <th>date</th>\n",
              "      <th>id</th>\n",
              "      <th>sku_id</th>\n",
              "      <th>price</th>\n",
              "      <th>sku_name</th>\n",
              "      <th>gender</th>\n",
              "      <th>category</th>\n",
              "      <th>brand</th>\n",
              "      <th>collection</th>\n",
              "      <th>price_tier</th>\n",
              "      <th>style</th>\n",
              "      <th>cost</th>\n",
              "      <th>sales</th>\n",
              "    </tr>\n",
              "  </thead>\n",
              "  <tbody>\n",
              "    <tr>\n",
              "      <th>0</th>\n",
              "      <td>24-05-2020</td>\n",
              "      <td>400</td>\n",
              "      <td>0</td>\n",
              "      <td>1.9</td>\n",
              "      <td>jeans_female_brand_2_P_middle_sport</td>\n",
              "      <td>female</td>\n",
              "      <td>jeans</td>\n",
              "      <td>brand_2</td>\n",
              "      <td>P</td>\n",
              "      <td>middle</td>\n",
              "      <td>sport</td>\n",
              "      <td>43.63</td>\n",
              "      <td>577.0</td>\n",
              "    </tr>\n",
              "    <tr>\n",
              "      <th>1</th>\n",
              "      <td>24-05-2020</td>\n",
              "      <td>800</td>\n",
              "      <td>0</td>\n",
              "      <td>1.9</td>\n",
              "      <td>jeans_female_brand_2_P_middle_sport</td>\n",
              "      <td>female</td>\n",
              "      <td>jeans</td>\n",
              "      <td>brand_2</td>\n",
              "      <td>P</td>\n",
              "      <td>middle</td>\n",
              "      <td>sport</td>\n",
              "      <td>43.63</td>\n",
              "      <td>545.0</td>\n",
              "    </tr>\n",
              "    <tr>\n",
              "      <th>2</th>\n",
              "      <td>24-05-2020</td>\n",
              "      <td>1200</td>\n",
              "      <td>0</td>\n",
              "      <td>1.9</td>\n",
              "      <td>jeans_female_brand_2_P_middle_sport</td>\n",
              "      <td>female</td>\n",
              "      <td>jeans</td>\n",
              "      <td>brand_2</td>\n",
              "      <td>P</td>\n",
              "      <td>middle</td>\n",
              "      <td>sport</td>\n",
              "      <td>43.63</td>\n",
              "      <td>565.0</td>\n",
              "    </tr>\n",
              "    <tr>\n",
              "      <th>3</th>\n",
              "      <td>24-05-2020</td>\n",
              "      <td>1600</td>\n",
              "      <td>0</td>\n",
              "      <td>1.9</td>\n",
              "      <td>jeans_female_brand_2_P_middle_sport</td>\n",
              "      <td>female</td>\n",
              "      <td>jeans</td>\n",
              "      <td>brand_2</td>\n",
              "      <td>P</td>\n",
              "      <td>middle</td>\n",
              "      <td>sport</td>\n",
              "      <td>43.63</td>\n",
              "      <td>536.0</td>\n",
              "    </tr>\n",
              "    <tr>\n",
              "      <th>4</th>\n",
              "      <td>24-05-2020</td>\n",
              "      <td>2000</td>\n",
              "      <td>0</td>\n",
              "      <td>1.9</td>\n",
              "      <td>jeans_female_brand_2_P_middle_sport</td>\n",
              "      <td>female</td>\n",
              "      <td>jeans</td>\n",
              "      <td>brand_2</td>\n",
              "      <td>P</td>\n",
              "      <td>middle</td>\n",
              "      <td>sport</td>\n",
              "      <td>43.63</td>\n",
              "      <td>568.0</td>\n",
              "    </tr>\n",
              "  </tbody>\n",
              "</table>\n",
              "</div>\n",
              "    <div class=\"colab-df-buttons\">\n",
              "\n",
              "  <div class=\"colab-df-container\">\n",
              "    <button class=\"colab-df-convert\" onclick=\"convertToInteractive('df-5c7dc5bd-79d5-45c8-8d11-d434f136765a')\"\n",
              "            title=\"Convert this dataframe to an interactive table.\"\n",
              "            style=\"display:none;\">\n",
              "\n",
              "  <svg xmlns=\"http://www.w3.org/2000/svg\" height=\"24px\" viewBox=\"0 -960 960 960\">\n",
              "    <path d=\"M120-120v-720h720v720H120Zm60-500h600v-160H180v160Zm220 220h160v-160H400v160Zm0 220h160v-160H400v160ZM180-400h160v-160H180v160Zm440 0h160v-160H620v160ZM180-180h160v-160H180v160Zm440 0h160v-160H620v160Z\"/>\n",
              "  </svg>\n",
              "    </button>\n",
              "\n",
              "  <style>\n",
              "    .colab-df-container {\n",
              "      display:flex;\n",
              "      gap: 12px;\n",
              "    }\n",
              "\n",
              "    .colab-df-convert {\n",
              "      background-color: #E8F0FE;\n",
              "      border: none;\n",
              "      border-radius: 50%;\n",
              "      cursor: pointer;\n",
              "      display: none;\n",
              "      fill: #1967D2;\n",
              "      height: 32px;\n",
              "      padding: 0 0 0 0;\n",
              "      width: 32px;\n",
              "    }\n",
              "\n",
              "    .colab-df-convert:hover {\n",
              "      background-color: #E2EBFA;\n",
              "      box-shadow: 0px 1px 2px rgba(60, 64, 67, 0.3), 0px 1px 3px 1px rgba(60, 64, 67, 0.15);\n",
              "      fill: #174EA6;\n",
              "    }\n",
              "\n",
              "    .colab-df-buttons div {\n",
              "      margin-bottom: 4px;\n",
              "    }\n",
              "\n",
              "    [theme=dark] .colab-df-convert {\n",
              "      background-color: #3B4455;\n",
              "      fill: #D2E3FC;\n",
              "    }\n",
              "\n",
              "    [theme=dark] .colab-df-convert:hover {\n",
              "      background-color: #434B5C;\n",
              "      box-shadow: 0px 1px 3px 1px rgba(0, 0, 0, 0.15);\n",
              "      filter: drop-shadow(0px 1px 2px rgba(0, 0, 0, 0.3));\n",
              "      fill: #FFFFFF;\n",
              "    }\n",
              "  </style>\n",
              "\n",
              "    <script>\n",
              "      const buttonEl =\n",
              "        document.querySelector('#df-5c7dc5bd-79d5-45c8-8d11-d434f136765a button.colab-df-convert');\n",
              "      buttonEl.style.display =\n",
              "        google.colab.kernel.accessAllowed ? 'block' : 'none';\n",
              "\n",
              "      async function convertToInteractive(key) {\n",
              "        const element = document.querySelector('#df-5c7dc5bd-79d5-45c8-8d11-d434f136765a');\n",
              "        const dataTable =\n",
              "          await google.colab.kernel.invokeFunction('convertToInteractive',\n",
              "                                                    [key], {});\n",
              "        if (!dataTable) return;\n",
              "\n",
              "        const docLinkHtml = 'Like what you see? Visit the ' +\n",
              "          '<a target=\"_blank\" href=https://colab.research.google.com/notebooks/data_table.ipynb>data table notebook</a>'\n",
              "          + ' to learn more about interactive tables.';\n",
              "        element.innerHTML = '';\n",
              "        dataTable['output_type'] = 'display_data';\n",
              "        await google.colab.output.renderOutput(dataTable, element);\n",
              "        const docLink = document.createElement('div');\n",
              "        docLink.innerHTML = docLinkHtml;\n",
              "        element.appendChild(docLink);\n",
              "      }\n",
              "    </script>\n",
              "  </div>\n",
              "\n",
              "\n",
              "<div id=\"df-cc5819f5-95bd-4f86-ad7b-9631309fa6fe\">\n",
              "  <button class=\"colab-df-quickchart\" onclick=\"quickchart('df-cc5819f5-95bd-4f86-ad7b-9631309fa6fe')\"\n",
              "            title=\"Suggest charts\"\n",
              "            style=\"display:none;\">\n",
              "\n",
              "<svg xmlns=\"http://www.w3.org/2000/svg\" height=\"24px\"viewBox=\"0 0 24 24\"\n",
              "     width=\"24px\">\n",
              "    <g>\n",
              "        <path d=\"M19 3H5c-1.1 0-2 .9-2 2v14c0 1.1.9 2 2 2h14c1.1 0 2-.9 2-2V5c0-1.1-.9-2-2-2zM9 17H7v-7h2v7zm4 0h-2V7h2v10zm4 0h-2v-4h2v4z\"/>\n",
              "    </g>\n",
              "</svg>\n",
              "  </button>\n",
              "\n",
              "<style>\n",
              "  .colab-df-quickchart {\n",
              "      --bg-color: #E8F0FE;\n",
              "      --fill-color: #1967D2;\n",
              "      --hover-bg-color: #E2EBFA;\n",
              "      --hover-fill-color: #174EA6;\n",
              "      --disabled-fill-color: #AAA;\n",
              "      --disabled-bg-color: #DDD;\n",
              "  }\n",
              "\n",
              "  [theme=dark] .colab-df-quickchart {\n",
              "      --bg-color: #3B4455;\n",
              "      --fill-color: #D2E3FC;\n",
              "      --hover-bg-color: #434B5C;\n",
              "      --hover-fill-color: #FFFFFF;\n",
              "      --disabled-bg-color: #3B4455;\n",
              "      --disabled-fill-color: #666;\n",
              "  }\n",
              "\n",
              "  .colab-df-quickchart {\n",
              "    background-color: var(--bg-color);\n",
              "    border: none;\n",
              "    border-radius: 50%;\n",
              "    cursor: pointer;\n",
              "    display: none;\n",
              "    fill: var(--fill-color);\n",
              "    height: 32px;\n",
              "    padding: 0;\n",
              "    width: 32px;\n",
              "  }\n",
              "\n",
              "  .colab-df-quickchart:hover {\n",
              "    background-color: var(--hover-bg-color);\n",
              "    box-shadow: 0 1px 2px rgba(60, 64, 67, 0.3), 0 1px 3px 1px rgba(60, 64, 67, 0.15);\n",
              "    fill: var(--button-hover-fill-color);\n",
              "  }\n",
              "\n",
              "  .colab-df-quickchart-complete:disabled,\n",
              "  .colab-df-quickchart-complete:disabled:hover {\n",
              "    background-color: var(--disabled-bg-color);\n",
              "    fill: var(--disabled-fill-color);\n",
              "    box-shadow: none;\n",
              "  }\n",
              "\n",
              "  .colab-df-spinner {\n",
              "    border: 2px solid var(--fill-color);\n",
              "    border-color: transparent;\n",
              "    border-bottom-color: var(--fill-color);\n",
              "    animation:\n",
              "      spin 1s steps(1) infinite;\n",
              "  }\n",
              "\n",
              "  @keyframes spin {\n",
              "    0% {\n",
              "      border-color: transparent;\n",
              "      border-bottom-color: var(--fill-color);\n",
              "      border-left-color: var(--fill-color);\n",
              "    }\n",
              "    20% {\n",
              "      border-color: transparent;\n",
              "      border-left-color: var(--fill-color);\n",
              "      border-top-color: var(--fill-color);\n",
              "    }\n",
              "    30% {\n",
              "      border-color: transparent;\n",
              "      border-left-color: var(--fill-color);\n",
              "      border-top-color: var(--fill-color);\n",
              "      border-right-color: var(--fill-color);\n",
              "    }\n",
              "    40% {\n",
              "      border-color: transparent;\n",
              "      border-right-color: var(--fill-color);\n",
              "      border-top-color: var(--fill-color);\n",
              "    }\n",
              "    60% {\n",
              "      border-color: transparent;\n",
              "      border-right-color: var(--fill-color);\n",
              "    }\n",
              "    80% {\n",
              "      border-color: transparent;\n",
              "      border-right-color: var(--fill-color);\n",
              "      border-bottom-color: var(--fill-color);\n",
              "    }\n",
              "    90% {\n",
              "      border-color: transparent;\n",
              "      border-bottom-color: var(--fill-color);\n",
              "    }\n",
              "  }\n",
              "</style>\n",
              "\n",
              "  <script>\n",
              "    async function quickchart(key) {\n",
              "      const quickchartButtonEl =\n",
              "        document.querySelector('#' + key + ' button');\n",
              "      quickchartButtonEl.disabled = true;  // To prevent multiple clicks.\n",
              "      quickchartButtonEl.classList.add('colab-df-spinner');\n",
              "      try {\n",
              "        const charts = await google.colab.kernel.invokeFunction(\n",
              "            'suggestCharts', [key], {});\n",
              "      } catch (error) {\n",
              "        console.error('Error during call to suggestCharts:', error);\n",
              "      }\n",
              "      quickchartButtonEl.classList.remove('colab-df-spinner');\n",
              "      quickchartButtonEl.classList.add('colab-df-quickchart-complete');\n",
              "    }\n",
              "    (() => {\n",
              "      let quickchartButtonEl =\n",
              "        document.querySelector('#df-cc5819f5-95bd-4f86-ad7b-9631309fa6fe button');\n",
              "      quickchartButtonEl.style.display =\n",
              "        google.colab.kernel.accessAllowed ? 'block' : 'none';\n",
              "    })();\n",
              "  </script>\n",
              "</div>\n",
              "\n",
              "    </div>\n",
              "  </div>\n"
            ],
            "application/vnd.google.colaboratory.intrinsic+json": {
              "type": "dataframe",
              "variable_name": "df"
            }
          },
          "metadata": {},
          "execution_count": 4
        }
      ]
    },
    {
      "cell_type": "code",
      "source": [
        "expected_cols = ['date', 'id', 'sku_id', 'price', 'sku_name', 'gender', 'category', 'brand', 'collection', 'price_tier', 'style', 'cost', 'sales']\n",
        "assert all(col in df.columns for col in expected_cols), \"Some expected columns are missing.\"\n",
        "\n",
        "# Handle missing values in 'sales'\n",
        "df['sales'] = df['sales'].fillna(df['sales'].median())\n",
        "\n",
        "# Correct the date format\n",
        "df['date'] = pd.to_datetime(df['date'], format='%d-%m-%Y')\n",
        "\n",
        "# Remove duplicate rows\n",
        "df = df.drop_duplicates()\n",
        "\n",
        "# Normalize or scale numerical features (optional)\n",
        "scaler = MinMaxScaler()\n",
        "df[['price', 'cost']] = scaler.fit_transform(df[['price', 'cost']])\n"
      ],
      "metadata": {
        "id": "PpefDCWiCSbC"
      },
      "execution_count": null,
      "outputs": []
    },
    {
      "cell_type": "code",
      "source": [
        "# Extracting month and year from the date\n",
        "df['month'] = df['date'].dt.month\n",
        "df['year'] = df['date'].dt.year\n",
        "\n",
        "# One-hot encoding categorical variables\n",
        "df = pd.get_dummies(df, columns=['gender', 'category', 'brand', 'collection', 'price_tier', 'style'])\n"
      ],
      "metadata": {
        "id": "rtpWR46XCQbd"
      },
      "execution_count": null,
      "outputs": []
    },
    {
      "cell_type": "code",
      "source": [
        "import seaborn as sns\n",
        "import matplotlib.pyplot as plt\n",
        "\n",
        "# Analyze the distribution of 'price' and 'sales'\n",
        "sns.histplot(df['price'])\n",
        "plt.show()\n",
        "sns.histplot(df['sales'])\n",
        "plt.show()\n",
        "\n",
        "# Identify potential outliers in 'sales'\n",
        "sns.boxplot(x=df['sales'])\n",
        "plt.show()\n",
        "\n",
        "# Explore correlations\n",
        "correlation_matrix = df.corr()\n",
        "sns.heatmap(correlation_matrix)\n",
        "plt.show()\n"
      ],
      "metadata": {
        "colab": {
          "base_uri": "https://localhost:8080/",
          "height": 1000
        },
        "id": "NEWSAZB1Dd9b",
        "outputId": "d918c1b7-f6fe-4245-b56a-9cf0b18d40c8"
      },
      "execution_count": null,
      "outputs": [
        {
          "output_type": "display_data",
          "data": {
            "text/plain": [
              "<Figure size 640x480 with 1 Axes>"
            ],
            "image/png": "[encoded data removed]"
          },
          "metadata": {}
        },
        {
          "output_type": "display_data",
          "data": {
            "text/plain": [
              "<Figure size 640x480 with 1 Axes>"
            ],
            "image/png": "[encoded data removed]"
          },
          "metadata": {}
        },
        {
          "output_type": "display_data",
          "data": {
            "text/plain": [
              "<Figure size 640x480 with 1 Axes>"
            ],
            "image/png": "[encoded data removed]"
          },
          "metadata": {}
        },
        {
          "output_type": "stream",
          "name": "stderr",
          "text": [
            "<ipython-input-7-5aacdfc6e679>:15: FutureWarning: The default value of numeric_only in DataFrame.corr is deprecated. In a future version, it will default to False. Select only valid columns or specify the value of numeric_only to silence this warning.\n",
            "  correlation_matrix = df.corr()\n"
          ]
        },
        {
          "output_type": "display_data",
          "data": {
            "text/plain": [
              "<Figure size 640x480 with 2 Axes>"
            ],
            "image/png": "[encoded data removed]"
          },
          "metadata": {}
        }
      ]
    },
    {
      "cell_type": "code",
      "source": [
        "# Compute the correlation matrix, addressing the future warning by explicitly setting numeric_only=True\n",
        "corr_matrix = df.corr(numeric_only=True).abs()\n",
        "\n",
        "# Select the upper triangle of the correlation matrix\n",
        "# Replace `np.bool` with `bool` to address the AttributeError\n",
        "upper = corr_matrix.where(np.triu(np.ones(corr_matrix.shape), k=1).astype(bool))\n",
        "\n",
        "# Find indexes of feature columns with correlation greater than 0.75\n",
        "highly_correlated_features = [column for column in upper.columns if any(upper[column] > 0.75)]\n",
        "print(\"Highly correlated features:\", highly_correlated_features)"
      ],
      "metadata": {
        "colab": {
          "base_uri": "https://localhost:8080/"
        },
        "id": "F0UDaNosFo2r",
        "outputId": "b81499e0-3ff6-4ef1-987d-2091cb54ae91"
      },
      "execution_count": null,
      "outputs": [
        {
          "output_type": "stream",
          "name": "stdout",
          "text": [
            "Highly correlated features: ['gender_male', 'style_sport']\n"
          ]
        }
      ]
    },
    {
      "cell_type": "code",
      "source": [
        "# Drop highly correlated features\n",
        "df.drop(columns=highly_correlated_features, inplace=True)\n"
      ],
      "metadata": {
        "id": "OoP6CKrqGEFq"
      },
      "execution_count": null,
      "outputs": []
    },
    {
      "cell_type": "code",
      "source": [
        "from sklearn.decomposition import PCA\n",
        "from sklearn.preprocessing import StandardScaler\n",
        "\n",
        "# Standardize the data\n",
        "scaler = StandardScaler()\n",
        "scaled_df = scaler.fit_transform(df.select_dtypes(include=[np.number]))  # Select only numerical columns for PCA\n",
        "\n",
        "# Apply PCA\n",
        "pca = PCA(n_components=0.95)  # Retain 95% of the variance\n",
        "principal_components = pca.fit_transform(scaled_df)\n",
        "principal_df = pd.DataFrame(data=principal_components)\n",
        "\n",
        "# Optional: Concatenate the principal components with the non-numerical features\n",
        "non_numerical_df = df.select_dtypes(exclude=[np.number])\n",
        "processed_df = pd.concat([principal_df, non_numerical_df.reset_index(drop=True)], axis=1)\n"
      ],
      "metadata": {
        "id": "WbQAd2N8GOzS"
      },
      "execution_count": null,
      "outputs": []
    },
    {
      "cell_type": "code",
      "source": [
        "from sklearn.linear_model import LinearRegression\n",
        "from sklearn.preprocessing import StandardScaler\n",
        "from sklearn.pipeline import make_pipeline\n",
        "\n",
        "# Assuming 'sales' is the target variable and other columns are features\n",
        "X = df.drop(['sales', 'date'], axis=1)  # Dropping 'date' as it needs to be preprocessed separately or dropped\n",
        "y = df['sales']\n",
        "\n",
        "# Convert categorical variables into dummy/indicator variables\n",
        "X = pd.get_dummies(X)\n",
        "\n",
        "# Create a pipeline that scales the data then fits the model\n",
        "pipeline = make_pipeline(StandardScaler(), LinearRegression())\n",
        "\n",
        "# Fit the pipeline\n",
        "pipeline.fit(X, y)\n",
        "\n",
        "# Extract the model from the pipeline\n",
        "model = pipeline.named_steps['linearregression']\n",
        "\n",
        "# Get the coefficients\n",
        "coefficients = model.coef_\n",
        "\n",
        "# Create a DataFrame of features and their importance\n",
        "feature_names = X.columns\n",
        "feature_importances = pd.DataFrame({'feature': feature_names, 'importance': coefficients}).sort_values('importance', ascending=False)\n",
        "\n",
        "# Display the most important features\n",
        "print(feature_importances)\n"
      ],
      "metadata": {
        "id": "vjvHRnUkGmEH",
        "colab": {
          "base_uri": "https://localhost:8080/"
        },
        "outputId": "19c2f8d5-da98-453a-8874-a55205ead6ff"
      },
      "execution_count": null,
      "outputs": [
        {
          "output_type": "stream",
          "name": "stdout",
          "text": [
            "              feature    importance\n",
            "21    price_tier_high  5.161547e+14\n",
            "19       collection_P  4.314828e+14\n",
            "12       category_top  4.275247e+14\n",
            "22     price_tier_low  3.996018e+14\n",
            "23  price_tier_middle  3.665956e+14\n",
            "..                ...           ...\n",
            "14      brand_brand_1 -4.014407e+14\n",
            "13  category_trainers -4.149047e+14\n",
            "8     category_jacket -5.268106e+14\n",
            "11   category_t-shirt -7.259704e+14\n",
            "5                year -7.549744e+14\n",
            "\n",
            "[425 rows x 2 columns]\n"
          ]
        }
      ]
    },
    {
      "cell_type": "code",
      "source": [
        "import statsmodels.api as sm\n",
        "\n",
        "# Assume these are the features used in the model\n",
        "features = ['price', 'cost', 'month', 'year']\n",
        "X = df[features]\n",
        "X = sm.add_constant(X)  # Adding a constant term for the intercept\n",
        "y = df['sales']\n",
        "\n",
        "# Train the model\n",
        "model = sm.OLS(y, X).fit()\n",
        "print(model.summary())"
      ],
      "metadata": {
        "colab": {
          "base_uri": "https://localhost:8080/"
        },
        "id": "5BL4XSJNDjDZ",
        "outputId": "496732d0-9d2b-4f04-f199-a4360735fba9"
      },
      "execution_count": null,
      "outputs": [
        {
          "output_type": "stream",
          "name": "stdout",
          "text": [
            "                            OLS Regression Results                            \n",
            "==============================================================================\n",
            "Dep. Variable:                  sales   R-squared:                       0.291\n",
            "Model:                            OLS   Adj. R-squared:                  0.291\n",
            "Method:                 Least Squares   F-statistic:                 3.449e+04\n",
            "Date:                Fri, 22 Mar 2024   Prob (F-statistic):               0.00\n",
            "Time:                        03:33:09   Log-Likelihood:            -1.8558e+06\n",
            "No. Observations:              252000   AIC:                         3.712e+06\n",
            "Df Residuals:                  251996   BIC:                         3.712e+06\n",
            "Df Model:                           3                                         \n",
            "Covariance Type:            nonrobust                                         \n",
            "==============================================================================\n",
            "                 coef    std err          t      P>|t|      [0.025      0.975]\n",
            "------------------------------------------------------------------------------\n",
            "price       -815.2649      2.568   -317.509      0.000    -820.298    -810.232\n",
            "cost           9.4186      5.070      1.858      0.063      -0.518      19.355\n",
            "month        -68.1255      1.447    -47.082      0.000     -70.962     -65.290\n",
            "year           0.6862      0.004    158.966      0.000       0.678       0.695\n",
            "==============================================================================\n",
            "Omnibus:                    96971.699   Durbin-Watson:                   0.168\n",
            "Prob(Omnibus):                  0.000   Jarque-Bera (JB):           424913.447\n",
            "Skew:                           1.872   Prob(JB):                         0.00\n",
            "Kurtosis:                       8.143   Cond. No.                     1.35e+04\n",
            "==============================================================================\n",
            "\n",
            "Notes:\n",
            "[1] Standard Errors assume that the covariance matrix of the errors is correctly specified.\n",
            "[2] The condition number is large, 1.35e+04. This might indicate that there are\n",
            "strong multicollinearity or other numerical problems.\n"
          ]
        }
      ]
    },
    {
      "cell_type": "code",
      "source": [
        "from sklearn.model_selection import train_test_split\n",
        "from sklearn.metrics import mean_squared_error, r2_score\n",
        "\n",
        "# Split the dataset\n",
        "X_train, X_test, y_train, y_test = train_test_split(X, y, test_size=0.2, random_state=42)\n",
        "\n",
        "# Fit the model on the training data\n",
        "model = sm.OLS(y_train, X_train).fit()\n",
        "\n",
        "# Predict on the testing set\n",
        "y_pred = model.predict(X_test)\n",
        "\n",
        "# Evaluate the model\n",
        "print(\"Mean Squared Error:\", mean_squared_error(y_test, y_pred))\n",
        "print(\"R-squared:\", r2_score(y_test, y_pred))\n"
      ],
      "metadata": {
        "colab": {
          "base_uri": "https://localhost:8080/"
        },
        "id": "ooSUpvXbDp6_",
        "outputId": "45795379-9890-4cc9-a406-e76181045e90"
      },
      "execution_count": null,
      "outputs": [
        {
          "output_type": "stream",
          "name": "stdout",
          "text": [
            "Mean Squared Error: 146151.83838523462\n",
            "R-squared: 0.28903693940055275\n"
          ]
        }
      ]
    },
    {
      "cell_type": "code",
      "source": [
        "def RecommendPrice(itemID, data, Time, Date):\n",
        "    # Filter the data for the itemID and avoid SettingWithCopyWarning by creating a copy\n",
        "    item_data = data[data['sku_id'] == itemID].copy()\n",
        "\n",
        "    # Extract 'month' and 'year' from the 'date' column if not already present\n",
        "    if 'month' not in item_data or 'year' not in item_data:\n",
        "        item_data['month'] = pd.DatetimeIndex(item_data['date']).month\n",
        "        item_data['year'] = pd.DatetimeIndex(item_data['date']).year\n",
        "\n",
        "    # Ensure the same features are used for prediction\n",
        "    X = item_data[features]\n",
        "    X = sm.add_constant(X)  # Adding the constant term\n",
        "\n",
        "    # Predict the sales\n",
        "    predicted_sales = model.predict(X)\n",
        "\n",
        "    # Implement logic to determine the optimal price\n",
        "    optimal_price = item_data.loc[predicted_sales.idxmax(), 'price']\n",
        "\n",
        "    return optimal_price\n"
      ],
      "metadata": {
        "id": "stWMOAezDsTq"
      },
      "execution_count": 1,
      "outputs": []
    },
    {
      "cell_type": "code",
      "source": [
        "# Replace '123' with an actual item ID from your dataset\n",
        "test_item_id = 5\n",
        "recommended_price = RecommendPrice(test_item_id, df, '2020-01-01', '12:00')\n",
        "print(\"Recommended Price:\", recommended_price)\n"
      ],
      "metadata": {
        "colab": {
          "base_uri": "https://localhost:8080/",
          "height": 198
        },
        "id": "5ECAYk6MDvEm",
        "outputId": "a7924312-2bed-4fcb-902b-75e3cbcb1c0e"
      },
      "execution_count": 2,
      "outputs": [
        {
          "output_type": "error",
          "ename": "NameError",
          "evalue": "name 'df' is not defined",
          "traceback": [
            "\u001b[0;31m---------------------------------------------------------------------------\u001b[0m",
            "\u001b[0;31mNameError\u001b[0m                                 Traceback (most recent call last)",
            "\u001b[0;32m<ipython-input-2-c71876d8e015>\u001b[0m in \u001b[0;36m<cell line: 3>\u001b[0;34m()\u001b[0m\n\u001b[1;32m      1\u001b[0m \u001b[0;31m# Replace '123' with an actual item ID from your dataset\u001b[0m\u001b[0;34m\u001b[0m\u001b[0;34m\u001b[0m\u001b[0m\n\u001b[1;32m      2\u001b[0m \u001b[0mtest_item_id\u001b[0m \u001b[0;34m=\u001b[0m \u001b[0;36m5\u001b[0m\u001b[0;34m\u001b[0m\u001b[0;34m\u001b[0m\u001b[0m\n\u001b[0;32m----> 3\u001b[0;31m \u001b[0mrecommended_price\u001b[0m \u001b[0;34m=\u001b[0m \u001b[0mRecommendPrice\u001b[0m\u001b[0;34m(\u001b[0m\u001b[0mtest_item_id\u001b[0m\u001b[0;34m,\u001b[0m \u001b[0mdf\u001b[0m\u001b[0;34m,\u001b[0m \u001b[0;34m'2020-01-01'\u001b[0m\u001b[0;34m,\u001b[0m \u001b[0;34m'12:00'\u001b[0m\u001b[0;34m)\u001b[0m\u001b[0;34m\u001b[0m\u001b[0;34m\u001b[0m\u001b[0m\n\u001b[0m\u001b[1;32m      4\u001b[0m \u001b[0mprint\u001b[0m\u001b[0;34m(\u001b[0m\u001b[0;34m\"Recommended Price:\"\u001b[0m\u001b[0;34m,\u001b[0m \u001b[0mrecommended_price\u001b[0m\u001b[0;34m)\u001b[0m\u001b[0;34m\u001b[0m\u001b[0;34m\u001b[0m\u001b[0m\n",
            "\u001b[0;31mNameError\u001b[0m: name 'df' is not defined"
          ]
        }
      ]
    },
    {
      "cell_type": "code",
      "source": [],
      "metadata": {
        "id": "CiYsYPPzDxp4"
      },
      "execution_count": null,
      "outputs": []
    },
    {
      "cell_type": "code",
      "source": [],
      "metadata": {
        "id": "EvHSEnl2K4-a"
      },
      "execution_count": null,
      "outputs": []
    },
    {
      "cell_type": "code",
      "source": [],
      "metadata": {
        "id": "ZQ6ndTpPK5A-"
      },
      "execution_count": null,
      "outputs": []
    },
    {
      "cell_type": "code",
      "source": [],
      "metadata": {
        "id": "zupf_G9jK5DU"
      },
      "execution_count": null,
      "outputs": []
    },
    {
      "cell_type": "code",
      "source": [],
      "metadata": {
        "id": "CAjIIfWNK5GL"
      },
      "execution_count": null,
      "outputs": []
    }
  ]
}